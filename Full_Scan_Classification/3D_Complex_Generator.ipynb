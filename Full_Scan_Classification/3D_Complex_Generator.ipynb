{
 "cells": [
  {
   "cell_type": "markdown",
   "metadata": {},
   "source": [
    "# Compute Persistent Homology of 3-D Scans\n",
    "\n",
    "### We have the middle segment from the 421 + 144 TCIA lung cancer samples formatted for analysis of Cubical Complexes"
   ]
  },
  {
   "cell_type": "code",
   "execution_count": 1,
   "metadata": {},
   "outputs": [],
   "source": [
    "import numpy as np\n",
    "import matplotlib.pylab as plt\n",
    "import math\n",
    "import os\n",
    "import gudhi as gd\n",
    "import pandas as pd\n",
    "import PersistenceImages.persistence_images as pimg"
   ]
  },
  {
   "cell_type": "markdown",
   "metadata": {},
   "source": [
    "### Test the persistent homology pipeline"
   ]
  },
  {
   "cell_type": "code",
   "execution_count": 2,
   "metadata": {},
   "outputs": [],
   "source": [
    "def BitmapToPhom(bitmap):\n",
    "    l,w,h = np.shape(bitmap)\n",
    "    \n",
    "    cubical = gd.CubicalComplex(dimensions = [l,w,h], top_dimensional_cells = bitmap.flatten())\n",
    "    phom = cubical.compute_persistence()\n",
    "    phom_0 = cubical.persistence_intervals_in_dimension(0)\n",
    "    phom_1 = cubical.persistence_intervals_in_dimension(1)\n",
    "    phom_2 = cubical.persistence_intervals_in_dimension(2)\n",
    "\n",
    "    return(phom_0, phom_1, phom_2)"
   ]
  },
  {
   "cell_type": "code",
   "execution_count": 3,
   "metadata": {},
   "outputs": [
    {
     "name": "stdout",
     "output_type": "stream",
     "text": [
      "[]\n"
     ]
    }
   ],
   "source": [
    "lung_test = np.load('C:/Users/Adam/Documents/GitHub/TDA-Lung-Tumor-Classification/Tumor_data/Radiomics_Arrays/LUNG1-192.npy')\n",
    "phom_0, phom_1, phom_2 = BitmapToPhom(lung_test)\n",
    "\n",
    "#LUNG1-192 is the one that only has 2 layers. There will therefore be no 2-dimensional homology\n",
    "print(phom_2)"
   ]
  },
  {
   "cell_type": "markdown",
   "metadata": {},
   "source": [
    "### Read in files and normalize"
   ]
  },
  {
   "cell_type": "code",
   "execution_count": 4,
   "metadata": {},
   "outputs": [],
   "source": [
    "#Radiomics Dataset\n",
    "directory = os.fsencode('C:/Users/Adam/Documents/GitHub/TDA-Lung-Tumor-Classification/Tumor_data/Radiomics_Arrays/')\n",
    "\n",
    "all_rad_scans = []\n",
    "rad_maxes = []\n",
    "rad_mins = []\n",
    "\n",
    "for file in os.listdir(directory):\n",
    "    filename = directory + file\n",
    "    lung = np.load(filename)\n",
    "    rad_maxes.append(np.amax(lung))\n",
    "    rad_mins.append(np.amin(lung))    \n",
    "    all_rad_scans.append(lung)\n",
    "    \n",
    "\n",
    "    \n",
    "#Radiogenomics Dataset\n",
    "directory = os.fsencode('C:/Users/Adam/Documents/GitHub/TDA-Lung-Tumor-Classification/Tumor_data/Radiogenomics_Arrays/')\n",
    "\n",
    "all_radg_scans = []\n",
    "radg_maxes = []\n",
    "radg_mins = []\n",
    "\n",
    "for file in os.listdir(directory):\n",
    "    filename = directory + file\n",
    "    lung = np.load(filename)\n",
    "    radg_maxes.append(np.amax(lung))\n",
    "    radg_mins.append(np.amin(lung))    \n",
    "    all_radg_scans.append(lung)"
   ]
  },
  {
   "cell_type": "code",
   "execution_count": 5,
   "metadata": {},
   "outputs": [
    {
     "name": "stderr",
     "output_type": "stream",
     "text": [
      "C:\\Users\\Adam\\Anaconda3\\lib\\site-packages\\ipykernel_launcher.py:5: VisibleDeprecationWarning: Creating an ndarray from ragged nested sequences (which is a list-or-tuple of lists-or-tuples-or ndarrays with different lengths or shapes) is deprecated. If you meant to do this, you must specify 'dtype=object' when creating the ndarray\n",
      "  \"\"\"\n",
      "C:\\Users\\Adam\\Anaconda3\\lib\\site-packages\\ipykernel_launcher.py:6: VisibleDeprecationWarning: Creating an ndarray from ragged nested sequences (which is a list-or-tuple of lists-or-tuples-or ndarrays with different lengths or shapes) is deprecated. If you meant to do this, you must specify 'dtype=object' when creating the ndarray\n",
      "  \n"
     ]
    }
   ],
   "source": [
    "#We want to normalize to [0,1]\n",
    "grand_max = max(np.max(rad_maxes), np.max(radg_maxes))\n",
    "grand_min = max(np.min(rad_mins), np.min(radg_mins))\n",
    "\n",
    "all_rad_scans_normalized = (all_rad_scans - grand_min) / (grand_max - grand_min)\n",
    "all_radg_scans_normalized = (all_radg_scans - grand_min) / (grand_max - grand_min)"
   ]
  },
  {
   "cell_type": "markdown",
   "metadata": {},
   "source": [
    "### Apply persistent homology pipeline to all files\n",
    "This cell takes ~30 minutes on my desktop!"
   ]
  },
  {
   "cell_type": "code",
   "execution_count": 6,
   "metadata": {},
   "outputs": [],
   "source": [
    "#Radiomics Dataset\n",
    "\n",
    "rad_phom_0s = []\n",
    "rad_phom_1s = []\n",
    "rad_phom_2s = []\n",
    "\n",
    "for tumor in all_rad_scans_normalized:\n",
    "    rad_phom_0, rad_phom_1, rad_phom_2 = BitmapToPhom(tumor)\n",
    "    \n",
    "    rad_phom_0s.append(rad_phom_0)\n",
    "    rad_phom_1s.append(rad_phom_1)\n",
    "    rad_phom_2s.append(rad_phom_2)\n",
    "    \n",
    "    \n",
    "#Radiogenomics Dataset\n",
    "\n",
    "radg_phom_0s = []\n",
    "radg_phom_1s = []\n",
    "radg_phom_2s = []\n",
    "\n",
    "for tumor in all_radg_scans_normalized:\n",
    "    radg_phom_0, radg_phom_1, radg_phom_2 = BitmapToPhom(tumor)\n",
    "    \n",
    "    radg_phom_0s.append(radg_phom_0)\n",
    "    radg_phom_1s.append(radg_phom_1)\n",
    "    radg_phom_2s.append(radg_phom_2)\n"
   ]
  },
  {
   "cell_type": "markdown",
   "metadata": {},
   "source": [
    "### Save persistent homology files so I only need to run this once"
   ]
  },
  {
   "cell_type": "code",
   "execution_count": 8,
   "metadata": {},
   "outputs": [],
   "source": [
    "np.save('C:/Users/Adam/Documents/GitHub/TDA-Lung-Tumor-Classification/Tumor_data/Radiomics_Homology/rad_phom_0s.npy', rad_phom_0s)\n",
    "np.save('C:/Users/Adam/Documents/GitHub/TDA-Lung-Tumor-Classification/Tumor_data/Radiomics_Homology/rad_phom_1s.npy', rad_phom_1s)\n",
    "np.save('C:/Users/Adam/Documents/GitHub/TDA-Lung-Tumor-Classification/Tumor_data/Radiomics_Homology/rad_phom_2s.npy', rad_phom_2s)\n",
    "\n",
    "np.save('C:/Users/Adam/Documents/GitHub/TDA-Lung-Tumor-Classification/Tumor_data/Radiogenomics_Homology/radg_phom_0s.npy', radg_phom_0s)\n",
    "np.save('C:/Users/Adam/Documents/GitHub/TDA-Lung-Tumor-Classification/Tumor_data/Radiogenomics_Homology/radg_phom_1s.npy', radg_phom_1s)\n",
    "np.save('C:/Users/Adam/Documents/GitHub/TDA-Lung-Tumor-Classification/Tumor_data/Radiogenomics_Homology/radg_phom_2s.npy', radg_phom_2s)"
   ]
  },
  {
   "cell_type": "code",
   "execution_count": null,
   "metadata": {},
   "outputs": [],
   "source": []
  }
 ],
 "metadata": {
  "kernelspec": {
   "display_name": "Python 3",
   "language": "python",
   "name": "python3"
  },
  "language_info": {
   "codemirror_mode": {
    "name": "ipython",
    "version": 3
   },
   "file_extension": ".py",
   "mimetype": "text/x-python",
   "name": "python",
   "nbconvert_exporter": "python",
   "pygments_lexer": "ipython3",
   "version": "3.7.4"
  }
 },
 "nbformat": 4,
 "nbformat_minor": 2
}
