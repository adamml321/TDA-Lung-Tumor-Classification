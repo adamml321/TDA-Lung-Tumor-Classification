{
 "cells": [
  {
   "cell_type": "markdown",
   "metadata": {},
   "source": [
    "# Classify 3-D Lung Tumor Scans Based on Persistence Images\n",
    "This will pick up where '3D_complex_generator.ipynb' left off by creating persistence images and running classifiers on them"
   ]
  },
  {
   "cell_type": "code",
   "execution_count": 10,
   "metadata": {},
   "outputs": [],
   "source": [
    "import numpy as np\n",
    "import matplotlib.pyplot as plt\n",
    "import math\n",
    "import os\n",
    "import gudhi as gd\n",
    "import pandas as pd\n",
    "import PersistenceImages.persistence_images as pimg"
   ]
  },
  {
   "cell_type": "markdown",
   "metadata": {},
   "source": [
    "### Start by loading in the persistent homology data"
   ]
  },
  {
   "cell_type": "code",
   "execution_count": 2,
   "metadata": {},
   "outputs": [],
   "source": [
    "rad_phom_0s = np.load('C:/Users/Adam/Documents/Datasets/Radiomics_Homology/rad_phom_0s.npy', allow_pickle = True)\n",
    "rad_phom_1s = np.load('C:/Users/Adam/Documents/Datasets/Radiomics_Homology/rad_phom_1s.npy', allow_pickle = True)\n",
    "rad_phom_2s = np.load('C:/Users/Adam/Documents/Datasets/Radiomics_Homology/rad_phom_2s.npy', allow_pickle = True)\n",
    "\n",
    "radg_phom_0s = np.load('C:/Users/Adam/Documents/Datasets/Radiogenomics_Homology/radg_phom_0s.npy', allow_pickle = True)\n",
    "radg_phom_1s = np.load('C:/Users/Adam/Documents/Datasets/Radiogenomics_Homology/radg_phom_1s.npy', allow_pickle = True)\n",
    "radg_phom_2s = np.load('C:/Users/Adam/Documents/Datasets/Radiogenomics_Homology/radg_phom_1s.npy', allow_pickle = True)"
   ]
  },
  {
   "cell_type": "markdown",
   "metadata": {},
   "source": [
    "### Set up persistence image parameters. "
   ]
  },
  {
   "cell_type": "code",
   "execution_count": 3,
   "metadata": {},
   "outputs": [
    {
     "name": "stdout",
     "output_type": "stream",
     "text": [
      "[0.05 0.  ]\n",
      "PersistenceImager object: \n",
      "  pixel size: 0.05 \n",
      "  resolution: (20, 20) \n",
      "  birth range: (0, 1) \n",
      "  persistence range: (0, 1) \n",
      "  weight: linear_ramp \n",
      "  kernel: bvncdf \n",
      "  weight parameters: {} \n",
      "  kernel parameters: {sigma: [[0.05 0.  ]\n",
      " [0.   0.05]]}\n"
     ]
    }
   ],
   "source": [
    "pers_imager = pimg.PersistenceImager()\n",
    "pers_imager.pixel_size = 0.05\n",
    "pers_imager.birth_range = (0,1)\n",
    "pers_imager.pers_range = (0,1)\n",
    "pers_imager.kernel_params['sigma'][0] = [0.05, 0]\n",
    "pers_imager.kernel_params['sigma'][1] = [0, 0.05]\n",
    "\n",
    "\n",
    "print(pers_imager.kernel_params['sigma'][0])\n",
    "print(pers_imager)"
   ]
  },
  {
   "cell_type": "code",
   "execution_count": 4,
   "metadata": {},
   "outputs": [
    {
     "data": {
      "image/png": "[encoded data removed]",
      "text/plain": [
       "<Figure size 432x288 with 1 Axes>"
      ]
     },
     "metadata": {},
     "output_type": "display_data"
    }
   ],
   "source": [
    "pers_imager.plot_image(radg_phom_0s[0], skew = True)"
   ]
  },
  {
   "cell_type": "code",
   "execution_count": 5,
   "metadata": {},
   "outputs": [
    {
     "name": "stdout",
     "output_type": "stream",
     "text": [
      "(20, 20)\n"
     ]
    }
   ],
   "source": [
    "pers_img_0_test = pers_imager.transform(rad_phom_0s[190], skew=True)\n",
    "print(pers_img_0_test.shape)"
   ]
  },
  {
   "cell_type": "markdown",
   "metadata": {},
   "source": [
    "### Create persistence images from all tumor scans and concatenate arrays"
   ]
  },
  {
   "cell_type": "code",
   "execution_count": 6,
   "metadata": {},
   "outputs": [],
   "source": [
    "def HomologyToImageVector(phom_0, phom_1, phom_2, imager):\n",
    "    \n",
    "    pers_img_0 = imager.transform(phom_0, skew=True)\n",
    "    pers_img_1 = imager.transform(phom_1, skew=True)\n",
    "    if len(phom_2) == 0: #Lung 192 is why we can't have nice things\n",
    "        pers_img_2 = np.zeros_like(pers_img_1)\n",
    "    else:\n",
    "        pers_img_2 = imager.transform(phom_2, skew=True)\n",
    "      \n",
    "    return(pers_img_0, pers_img_1, pers_img_2)"
   ]
  },
  {
   "cell_type": "code",
   "execution_count": 7,
   "metadata": {},
   "outputs": [
    {
     "name": "stdout",
     "output_type": "stream",
     "text": [
      "Wall time: 6min 50s\n"
     ]
    }
   ],
   "source": [
    "%%time\n",
    "#This cell takes ~6min 30s on my machine for pixel size = 0.05\n",
    "#~22min 45s for pixel size = 0.01\n",
    "\n",
    "#Radiomics Dataset\n",
    "\n",
    "rad_0d_images = []\n",
    "rad_1d_images = []\n",
    "rad_2d_images = []\n",
    "rad_concatenated_images = []\n",
    "\n",
    "for i in range(len(rad_phom_0s)):\n",
    "    pimg_0, pimg_1, pimg_2 = HomologyToImageVector(rad_phom_0s[i],rad_phom_1s[i],rad_phom_2s[i], pers_imager)\n",
    "    \n",
    "    #Save the original Images\n",
    "    rad_0d_images.append(pimg_0)\n",
    "    rad_1d_images.append(pimg_1)\n",
    "    rad_2d_images.append(pimg_2)\n",
    "    \n",
    "    #Resize to allow concatenation\n",
    "    pimg_0 = np.resize(pimg_0, (1, len(pimg_0)**2))\n",
    "    pimg_1 = np.resize(pimg_1, (1, len(pimg_1)**2))\n",
    "    pimg_2 = np.resize(pimg_2, (1, len(pimg_2)**2))\n",
    "    \n",
    "    #concatenate\n",
    "    imgs = np.concatenate((pimg_0[0], pimg_1[0], pimg_2[0]), axis=0)\n",
    "    rad_concatenated_images.append(imgs)\n",
    "\n",
    "rad_0d_images = np.array(rad_0d_images)\n",
    "rad_1d_images = np.array(rad_1d_images)\n",
    "rad_2d_images = np.array(rad_2d_images)\n",
    "rad_concatenated_images = np.array(rad_concatenated_images)\n",
    "\n",
    "\n",
    "#Radiogenomics Dataset\n",
    "\n",
    "radg_0d_images = []\n",
    "radg_1d_images = []\n",
    "radg_2d_images = []\n",
    "radg_concatenated_images = []\n",
    "\n",
    "for i in range(len(radg_phom_0s)):\n",
    "    pimg_0, pimg_1, pimg_2 = HomologyToImageVector(radg_phom_0s[i],radg_phom_1s[i],radg_phom_2s[i], pers_imager)\n",
    "    \n",
    "    #Save the original Images\n",
    "    radg_0d_images.append(pimg_0)\n",
    "    radg_1d_images.append(pimg_1)\n",
    "    radg_2d_images.append(pimg_2)\n",
    "    \n",
    "    #Resize to allow concatenation\n",
    "    pimg_0 = np.resize(pimg_0, (1, len(pimg_0)**2))\n",
    "    pimg_1 = np.resize(pimg_1, (1, len(pimg_1)**2))\n",
    "    pimg_2 = np.resize(pimg_2, (1, len(pimg_2)**2))\n",
    "    \n",
    "    #concatenate\n",
    "    imgs = np.concatenate((pimg_0[0], pimg_1[0], pimg_2[0]), axis=0)\n",
    "    radg_concatenated_images.append(imgs)\n",
    "\n",
    "radg_0d_images = np.array(radg_0d_images)\n",
    "radg_1d_images = np.array(radg_1d_images)\n",
    "radg_2d_images = np.array(radg_2d_images)\n",
    "radg_concatenated_images = np.array(radg_concatenated_images)"
   ]
  },
  {
   "cell_type": "markdown",
   "metadata": {},
   "source": [
    "### Read in clinical data"
   ]
  },
  {
   "cell_type": "code",
   "execution_count": 11,
   "metadata": {},
   "outputs": [],
   "source": [
    "#Radiomics clinical data\n",
    "rad_clinical = pd.read_csv(\"rad_clinic.csv\")\n",
    "rad_clinical = rad_clinical.drop(rad_clinical.index[127]) #Tumor 128 has no segmentation\n",
    "\n",
    "rad_histology = rad_clinical.Histology\n",
    "\n",
    "#Radiogenomics clinical data\n",
    "radg_clinical = pd.read_csv(\"radg_clinic.csv\", skiprows = range(1,50))\n",
    "radg_clinical = radg_clinical[0:146]\n",
    "radg_clinical = radg_clinical.drop(radg_clinical.index[[8, 142]]) #9 and 143 have no segmentation\n",
    "\n",
    "radg_clinical[\"Histology\"] = radg_clinical['Histology'].str.lower()\n",
    "radg_histology = radg_clinical.Histology"
   ]
  },
  {
   "cell_type": "markdown",
   "metadata": {},
   "source": [
    "### Combine Datasets"
   ]
  },
  {
   "cell_type": "code",
   "execution_count": 12,
   "metadata": {},
   "outputs": [],
   "source": [
    "radg_adeno = radg_histology == 'adenocarcinoma'\n",
    "radg_squamous = radg_histology == 'squamous cell carcinoma'\n",
    "rad_adeno = rad_histology == 'adenocarcinoma'\n",
    "rad_squamous = rad_histology == 'squamous cell carcinoma'\n",
    "\n",
    "#Select for adenocarcinoma and squamous cell carcinoma only\n",
    "#Tumor type data\n",
    "radg_histology_adsq = np.array(radg_histology[radg_adeno | radg_squamous])\n",
    "rad_histology_adsq = np.array(rad_histology[rad_adeno | rad_squamous])\n",
    "\n",
    "#Images from individual dimensions\n",
    "radg_0d_images_adsq = radg_0d_images[radg_adeno | radg_squamous]\n",
    "rad_0d_images_adsq = rad_0d_images[rad_adeno | rad_squamous]\n",
    "\n",
    "radg_1d_images_adsq = radg_1d_images[radg_adeno | radg_squamous]\n",
    "rad_1d_images_adsq = rad_1d_images[rad_adeno | rad_squamous]\n",
    "\n",
    "radg_2d_images_adsq = radg_2d_images[radg_adeno | radg_squamous]\n",
    "rad_2d_images_adsq = rad_2d_images[rad_adeno | rad_squamous]\n",
    "\n",
    "#Concatenated images\n",
    "radg_concatenated_images_adsq = radg_concatenated_images[radg_adeno | radg_squamous]\n",
    "rad_concatenated_images_adsq = rad_concatenated_images[rad_adeno | rad_squamous]\n",
    "\n",
    "#Combine\n",
    "histology_adsq = np.array(list(radg_histology_adsq) + list(rad_histology_adsq))\n",
    "\n",
    "images_0d_adsq = np.array(list(radg_0d_images_adsq) + list(rad_0d_images_adsq))\n",
    "images_1d_adsq = np.array(list(radg_1d_images_adsq) + list(rad_1d_images_adsq))\n",
    "images_2d_adsq = np.array(list(radg_2d_images_adsq) + list(rad_2d_images_adsq))\n",
    "\n",
    "images_adsq = np.array(list(radg_concatenated_images_adsq) + list(rad_concatenated_images_adsq))"
   ]
  },
  {
   "cell_type": "markdown",
   "metadata": {},
   "source": [
    "### Look at some average persistence images"
   ]
  },
  {
   "cell_type": "code",
   "execution_count": 13,
   "metadata": {},
   "outputs": [],
   "source": [
    "#The PersistenceImages library only has a function to plot the image from the persistence homology\n",
    "#This function adapts the one in the library to make the same kind of plot from an nxn array\n",
    "def plot_image_from_image(pers_img):\n",
    "    ax = plt.gca()\n",
    "    ax.matshow(pers_img.T, **{'origin': 'lower'})\n",
    "    \n",
    "    plt.xlabel('birth')\n",
    "    plt.ylabel('persistence')\n",
    "    ax.get_xaxis().set_ticks([])\n",
    "    ax.get_yaxis().set_ticks([])"
   ]
  },
  {
   "cell_type": "code",
   "execution_count": 18,
   "metadata": {},
   "outputs": [
    {
     "data": {
      "image/png": "[encoded data removed]",
      "text/plain": [
       "<Figure size 432x288 with 1 Axes>"
      ]
     },
     "metadata": {},
     "output_type": "display_data"
    }
   ],
   "source": [
    "#Calculate average persistence images\n",
    "avg_0d_adeno_img = np.mean(images_0d_adsq[histology_adsq == 'adenocarcinoma'], axis=0)\n",
    "avg_1d_adeno_img = np.mean(images_1d_adsq[histology_adsq == 'adenocarcinoma'], axis=0)\n",
    "avg_2d_adeno_img = np.mean(images_2d_adsq[histology_adsq == 'adenocarcinoma'], axis=0)\n",
    "\n",
    "plot_image_from_image(avg_1d_adeno_img)"
   ]
  },
  {
   "cell_type": "code",
   "execution_count": 19,
   "metadata": {},
   "outputs": [
    {
     "data": {
      "image/png": "[encoded data removed]",
      "text/plain": [
       "<Figure size 432x288 with 1 Axes>"
      ]
     },
     "metadata": {},
     "output_type": "display_data"
    }
   ],
   "source": [
    "avg_0d_squamous_img = np.mean(images_0d_adsq[histology_adsq == 'squamous cell carcinoma'], axis=0)\n",
    "avg_1d_squamous_img = np.mean(images_1d_adsq[histology_adsq == 'squamous cell carcinoma'], axis=0)\n",
    "avg_2d_squamous_img = np.mean(images_2d_adsq[histology_adsq == 'squamous cell carcinoma'], axis=0)\n",
    "\n",
    "plot_image_from_image(avg_1d_squamous_img)"
   ]
  },
  {
   "cell_type": "markdown",
   "metadata": {},
   "source": [
    "# Classification of tumor types"
   ]
  },
  {
   "cell_type": "code",
   "execution_count": 20,
   "metadata": {},
   "outputs": [],
   "source": [
    "from sklearn.model_selection import train_test_split\n",
    "from sklearn.model_selection import KFold\n",
    "from sklearn.metrics import accuracy_score\n",
    "from sklearn.metrics import confusion_matrix\n",
    "from sklearn.utils import shuffle\n",
    "from xgboost import XGBClassifier"
   ]
  },
  {
   "cell_type": "markdown",
   "metadata": {},
   "source": [
    "## XGBoost"
   ]
  },
  {
   "cell_type": "markdown",
   "metadata": {},
   "source": [
    "### Radiomics Dataset"
   ]
  },
  {
   "cell_type": "code",
   "execution_count": 21,
   "metadata": {},
   "outputs": [
    {
     "name": "stdout",
     "output_type": "stream",
     "text": [
      "5-fold cross-validated accuracy: 67.50%\n",
      "[[  8  43]\n",
      " [ 23 129]]\n"
     ]
    }
   ],
   "source": [
    "scores = []\n",
    "y_pred = []\n",
    "clf_xgboost = XGBClassifier(scale_pos_weight = 3)\n",
    "cv = KFold(n_splits=5, random_state=42, shuffle=False)\n",
    "for train_index, test_index in cv.split(rad_concatenated_images_adsq):\n",
    "\n",
    "    X_train, X_test = rad_concatenated_images_adsq[train_index], rad_concatenated_images_adsq[test_index]\n",
    "    y_train, y_test = rad_histology_adsq[train_index], rad_histology_adsq[test_index]\n",
    "    clf_xgboost.fit(X_train, y_train)\n",
    "    y_pred.append(list(clf_xgboost.predict(X_test)))\n",
    "    scores.append(clf_xgboost.score(X_test, y_test))\n",
    "y_pred = [val for sublist in y_pred for val in sublist]\n",
    "\n",
    "print(\"5-fold cross-validated accuracy: %.2f%%\" % (np.mean(scores) * 100.0))\n",
    "print(confusion_matrix(rad_histology_adsq, y_pred, labels=['adenocarcinoma', 'squamous cell carcinoma']))"
   ]
  },
  {
   "cell_type": "markdown",
   "metadata": {},
   "source": [
    "### Radiogenomics Dataset"
   ]
  },
  {
   "cell_type": "code",
   "execution_count": 22,
   "metadata": {},
   "outputs": [
    {
     "name": "stdout",
     "output_type": "stream",
     "text": [
      "5-fold cross-validated accuracy: 67.41%\n",
      "[[93 19]\n",
      " [27  2]]\n"
     ]
    }
   ],
   "source": [
    "scores = []\n",
    "y_pred = []\n",
    "\n",
    "clf_xgboost = XGBClassifier(scale_pos_weight = 3)\n",
    "cv = KFold(n_splits=5, random_state=42, shuffle=False)\n",
    "for train_index, test_index in cv.split(radg_concatenated_images_adsq):\n",
    "\n",
    "    X_train, X_test = radg_concatenated_images_adsq[train_index], radg_concatenated_images_adsq[test_index]\n",
    "    y_train, y_test = radg_histology_adsq[train_index], radg_histology_adsq[test_index]\n",
    "    clf_xgboost.fit(X_train, y_train)\n",
    "    y_pred.append(list(clf_xgboost.predict(X_test)))\n",
    "    scores.append(clf_xgboost.score(X_test, y_test))\n",
    "y_pred = [val for sublist in y_pred for val in sublist]\n",
    "\n",
    "print(\"5-fold cross-validated accuracy: %.2f%%\" % (np.mean(scores) * 100.0))\n",
    "print(confusion_matrix(radg_histology_adsq, y_pred, labels=['adenocarcinoma', 'squamous cell carcinoma']))"
   ]
  },
  {
   "cell_type": "markdown",
   "metadata": {},
   "source": [
    "### XGBoost"
   ]
  },
  {
   "cell_type": "code",
   "execution_count": 23,
   "metadata": {},
   "outputs": [
    {
     "name": "stdout",
     "output_type": "stream",
     "text": [
      "5-fold cross-validated accuracy: 63.38%\n",
      "[[ 99  64]\n",
      " [ 62 119]]\n",
      "Wall time: 4.24 s\n"
     ]
    }
   ],
   "source": [
    "%%time\n",
    "\n",
    "#First we need to shuffle this dataset since otherwise k-fold will magnify batch effects.\n",
    "images_adsq, histology_adsq = shuffle(images_adsq, histology_adsq, random_state = 10)\n",
    "\n",
    "scores = []\n",
    "y_pred = []\n",
    "clf_xgboost = XGBClassifier()\n",
    "cv = KFold(n_splits=5, shuffle=False)\n",
    "for train_index, test_index in cv.split(images_adsq):\n",
    "\n",
    "    X_train, X_test = images_adsq[train_index], images_adsq[test_index]\n",
    "    y_train, y_test = histology_adsq[train_index], histology_adsq[test_index]\n",
    "    clf_xgboost.fit(X_train, y_train)\n",
    "    y_pred.append(list(clf_xgboost.predict(X_test)))\n",
    "    scores.append(clf_xgboost.score(X_test, y_test))\n",
    "    \n",
    "y_pred = [val for sublist in y_pred for val in sublist]    \n",
    "print(\"5-fold cross-validated accuracy: %.2f%%\" % (np.mean(scores) * 100.0))\n",
    "print(confusion_matrix(histology_adsq, y_pred, labels=['adenocarcinoma', 'squamous cell carcinoma']))"
   ]
  },
  {
   "cell_type": "markdown",
   "metadata": {},
   "source": [
    "### Logistic Regression"
   ]
  },
  {
   "cell_type": "code",
   "execution_count": 24,
   "metadata": {},
   "outputs": [],
   "source": [
    "from sklearn.linear_model import LogisticRegression\n",
    "import sklearn.metrics as metrics"
   ]
  },
  {
   "cell_type": "code",
   "execution_count": 25,
   "metadata": {},
   "outputs": [
    {
     "name": "stdout",
     "output_type": "stream",
     "text": [
      "5-fold cross-validated accuracy: 73.54%\n",
      "[[115  48]\n",
      " [ 43 138]]\n",
      "Wall time: 233 ms\n"
     ]
    }
   ],
   "source": [
    "%%time\n",
    "\n",
    "#First we need to shuffle this dataset since otherwise k-fold will magnify batch effects.\n",
    "images_adsq, histology_adsq = shuffle(images_adsq, histology_adsq, random_state = 10)\n",
    "\n",
    "scores = []\n",
    "y_pred = []\n",
    "\n",
    "\n",
    "clf_logreg = LogisticRegression(penalty = 'l1', solver='liblinear')\n",
    "\n",
    "\n",
    "cv = KFold(n_splits=5, shuffle=False)\n",
    "for train_index, test_index in cv.split(images_adsq):\n",
    "\n",
    "    X_train, X_test = images_adsq[train_index], images_adsq[test_index]\n",
    "    y_train, y_test = histology_adsq[train_index], histology_adsq[test_index]\n",
    "    clf_logreg.fit(X_train, y_train)\n",
    "    y_pred.append(list(clf_logreg.predict(X_test)))\n",
    "    scores.append(clf_logreg.score(X_test, y_test))\n",
    "    \n",
    "y_pred = [val for sublist in y_pred for val in sublist]    \n",
    "\n",
    "print(\"5-fold cross-validated accuracy: %.2f%%\" % (np.mean(scores) * 100.0))\n",
    "print(confusion_matrix(histology_adsq, y_pred, labels=['adenocarcinoma', 'squamous cell carcinoma']))"
   ]
  },
  {
   "cell_type": "code",
   "execution_count": null,
   "metadata": {},
   "outputs": [],
   "source": []
  }
 ],
 "metadata": {
  "kernelspec": {
   "display_name": "Python 3",
   "language": "python",
   "name": "python3"
  },
  "language_info": {
   "codemirror_mode": {
    "name": "ipython",
    "version": 3
   },
   "file_extension": ".py",
   "mimetype": "text/x-python",
   "name": "python",
   "nbconvert_exporter": "python",
   "pygments_lexer": "ipython3",
   "version": "3.7.4"
  }
 },
 "nbformat": 4,
 "nbformat_minor": 2
}
