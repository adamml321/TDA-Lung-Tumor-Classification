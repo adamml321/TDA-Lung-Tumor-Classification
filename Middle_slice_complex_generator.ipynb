{
 "cells": [
  {
   "cell_type": "markdown",
   "metadata": {},
   "source": [
    "# Compute Persistent Homology of 3-D Scans\n",
    "\n",
    "### We have the middle segment from the 421 + 144 TCIA lung cancer samples formatted for analysis of Cubical Complexes"
   ]
  },
  {
   "cell_type": "code",
   "execution_count": 1,
   "metadata": {},
   "outputs": [],
   "source": [
    "import numpy as np\n",
    "import matplotlib.pylab as plt\n",
    "import math\n",
    "import os\n",
    "import gudhi as gd\n",
    "import pandas as pd\n",
    "import PersistenceImages.persistence_images as pimg"
   ]
  },
  {
   "cell_type": "markdown",
   "metadata": {},
   "source": [
    "### Test the persistent homology pipeline"
   ]
  },
  {
   "cell_type": "code",
   "execution_count": 2,
   "metadata": {},
   "outputs": [],
   "source": [
    "def BitmapToPhom(bitmap):\n",
    "    l,w = np.shape(bitmap)\n",
    "    \n",
    "    cubical = gd.CubicalComplex(dimensions = [l,w], top_dimensional_cells = bitmap.flatten())\n",
    "    phom = cubical.compute_persistence()\n",
    "    phom_0 = cubical.persistence_intervals_in_dimension(0)\n",
    "    phom_1 = cubical.persistence_intervals_in_dimension(1)\n",
    "\n",
    "    return(phom_0, phom_1)"
   ]
  },
  {
   "cell_type": "code",
   "execution_count": 3,
   "metadata": {},
   "outputs": [],
   "source": [
    "#Function to isolate just the middle slice\n",
    "def middle_slice(scan):\n",
    "    \n",
    "    nslices = len(scan)\n",
    "    middle = math.ceil(nslices/2)\n",
    "    middle_slice = scan[middle]\n",
    "    \n",
    "    return middle_slice"
   ]
  },
  {
   "cell_type": "code",
   "execution_count": 5,
   "metadata": {},
   "outputs": [
    {
     "data": {
      "text/plain": [
       "<matplotlib.axes._subplots.AxesSubplot at 0x213dfda0ec8>"
      ]
     },
     "execution_count": 5,
     "metadata": {},
     "output_type": "execute_result"
    },
    {
     "data": {
      "image/png": "[encoded data removed]",
      "text/plain": [
       "<Figure size 432x288 with 1 Axes>"
      ]
     },
     "metadata": {
      "needs_background": "light"
     },
     "output_type": "display_data"
    }
   ],
   "source": [
    "lung_test = np.load('./Radiogenomics_Arrays/R01-010.npy')\n",
    "middle_test = middle_slice (lung_test)\n",
    "phom_0, phom_1 = BitmapToPhom(middle_test)\n",
    "gd.plot_persistence_diagram(phom_0)"
   ]
  },
  {
   "cell_type": "markdown",
   "metadata": {},
   "source": [
    "### Read in files and normalize"
   ]
  },
  {
   "cell_type": "code",
   "execution_count": 6,
   "metadata": {},
   "outputs": [],
   "source": [
    "#Radiomics Dataset\n",
    "directory = os.fsencode('./Radiomics_Arrays')\n",
    "\n",
    "all_rad_middle_scans = []\n",
    "rad_maxes = []\n",
    "rad_mins = []\n",
    "\n",
    "for file in os.listdir(directory):\n",
    "    filename = './Radiomics_Arrays/' + os.fsdecode(file)\n",
    "    lung = np.load(filename)\n",
    "    middle = middle_slice(lung)\n",
    "    \n",
    "    rad_maxes.append(np.amax(middle))\n",
    "    rad_mins.append(np.amin(middle))\n",
    "    \n",
    "    all_rad_middle_scans.append(middle)\n",
    "    \n",
    "\n",
    "    \n",
    "#Radiogenomics Dataset\n",
    "directory = os.fsencode('./Radiogenomics_Arrays')\n",
    "\n",
    "all_radg_middle_scans = []\n",
    "radg_maxes = []\n",
    "radg_mins = []\n",
    "\n",
    "for file in os.listdir(directory):\n",
    "    filename = './Radiogenomics_Arrays/' + os.fsdecode(file)\n",
    "    lung = np.load(filename)\n",
    "    middle = middle_slice(lung)\n",
    "    \n",
    "    radg_maxes.append(np.amax(middle))\n",
    "    radg_mins.append(np.amin(middle))\n",
    "    \n",
    "    all_radg_middle_scans.append(middle)"
   ]
  },
  {
   "cell_type": "code",
   "execution_count": 7,
   "metadata": {},
   "outputs": [
    {
     "name": "stderr",
     "output_type": "stream",
     "text": [
      "C:\\Users\\Adam\\Anaconda3\\lib\\site-packages\\ipykernel_launcher.py:5: VisibleDeprecationWarning: Creating an ndarray from ragged nested sequences (which is a list-or-tuple of lists-or-tuples-or ndarrays with different lengths or shapes) is deprecated. If you meant to do this, you must specify 'dtype=object' when creating the ndarray\n",
      "  \"\"\"\n",
      "C:\\Users\\Adam\\Anaconda3\\lib\\site-packages\\ipykernel_launcher.py:6: VisibleDeprecationWarning: Creating an ndarray from ragged nested sequences (which is a list-or-tuple of lists-or-tuples-or ndarrays with different lengths or shapes) is deprecated. If you meant to do this, you must specify 'dtype=object' when creating the ndarray\n",
      "  \n"
     ]
    }
   ],
   "source": [
    "#We want to normalize to [0,1]\n",
    "grand_max = max(np.max(rad_maxes), np.max(radg_maxes))\n",
    "grand_min = max(np.min(rad_mins), np.min(radg_mins))\n",
    "\n",
    "all_rad_middle_scans_normalized = (all_rad_middle_scans - grand_min) / (grand_max - grand_min)\n",
    "all_radg_middle_scans_normalized = (all_radg_middle_scans - grand_min) / (grand_max - grand_min)"
   ]
  },
  {
   "cell_type": "code",
   "execution_count": 12,
   "metadata": {},
   "outputs": [
    {
     "name": "stdout",
     "output_type": "stream",
     "text": [
      "[[0.03888238 0.08401719 0.16588511 ... 0.19148105 0.19460727 0.19421649]\n",
      " [0.08616647 0.15220789 0.19968738 ... 0.19089488 0.19245799 0.19128566]\n",
      " [0.16764361 0.21004299 0.21082454 ... 0.19089488 0.19421649 0.1957796 ]\n",
      " ...\n",
      " [0.21649082 0.22450176 0.30871434 ... 0.08518953 0.07639703 0.07131692]\n",
      " [0.21004299 0.22528331 0.28389996 ... 0.15298945 0.09456819 0.07835092]\n",
      " [0.21766315 0.22586948 0.25889019 ... 0.21414615 0.13266901 0.1031653 ]]\n"
     ]
    }
   ],
   "source": [
    "print(all_radg_middle_scans_normalized[-1])"
   ]
  },
  {
   "cell_type": "markdown",
   "metadata": {},
   "source": [
    "### Apply persistent homology pipeline to all files"
   ]
  },
  {
   "cell_type": "code",
   "execution_count": 9,
   "metadata": {},
   "outputs": [],
   "source": [
    "#Radiomics Dataset\n",
    "\n",
    "rad_phom_0s = []\n",
    "rad_phom_1s = []\n",
    "\n",
    "for tumor in all_rad_middle_scans_normalized:\n",
    "    rad_phom_0, rad_phom_1 = BitmapToPhom(tumor)\n",
    "    \n",
    "    rad_phom_0s.append(rad_phom_0)\n",
    "    rad_phom_1s.append(rad_phom_1)\n",
    "    \n",
    "    \n",
    "#Radiogenomics Dataset\n",
    "\n",
    "radg_phom_0s = []\n",
    "radg_phom_1s = []\n",
    "\n",
    "for tumor in all_radg_middle_scans_normalized:\n",
    "    radg_phom_0, radg_phom_1 = BitmapToPhom(tumor)\n",
    "    \n",
    "    radg_phom_0s.append(radg_phom_0)\n",
    "    radg_phom_1s.append(radg_phom_1)\n"
   ]
  },
  {
   "cell_type": "code",
   "execution_count": 14,
   "metadata": {},
   "outputs": [
    {
     "name": "stdout",
     "output_type": "stream",
     "text": [
      "[[0.24579914 0.24912075]\n",
      " [0.24364986 0.25263775]\n",
      " [0.24736225 0.25263775]\n",
      " [0.24032825 0.25439625]\n",
      " [0.24716686 0.25752247]\n",
      " [0.24833919 0.25830403]\n",
      " [0.24892536 0.2622118 ]\n",
      " [0.25576397 0.26260258]\n",
      " [0.24618992 0.26279797]\n",
      " [0.25849941 0.26475186]\n",
      " [0.24931614 0.26514263]\n",
      " [0.25595936 0.26729191]\n",
      " [0.2604533  0.2674873 ]\n",
      " [0.25654553 0.2674873 ]\n",
      " [0.26690113 0.26807347]\n",
      " [0.26963658 0.2710043 ]\n",
      " [0.25263775 0.27237202]\n",
      " [0.28018757 0.28253224]\n",
      " [0.27315358 0.28292302]\n",
      " [0.26455647 0.28292302]\n",
      " [0.27178585 0.28311841]\n",
      " [0.2815553  0.28350918]\n",
      " [0.27921063 0.28370457]\n",
      " [0.26963658 0.28389996]\n",
      " [0.27373974 0.28507229]\n",
      " [0.26084408 0.28507229]\n",
      " [0.28331379 0.28761235]\n",
      " [0.28331379 0.28858929]\n",
      " [0.28819852 0.28898007]\n",
      " [0.28350918 0.28917546]\n",
      " [0.28624463 0.29034779]\n",
      " [0.29308324 0.29562329]\n",
      " [0.27295819 0.29562329]\n",
      " [0.27686596 0.29581868]\n",
      " [0.27061352 0.29581868]\n",
      " [0.2866354  0.29581868]\n",
      " [0.29406018 0.29660023]\n",
      " [0.29132474 0.29699101]\n",
      " [0.2919109  0.29835873]\n",
      " [0.27237202 0.2989449 ]\n",
      " [0.2954279  0.2989449 ]\n",
      " [0.28214146 0.29953107]\n",
      " [0.29288785 0.3007034 ]\n",
      " [0.28898007 0.3007034 ]\n",
      " [0.29914029 0.30128957]\n",
      " [0.29347401 0.30207112]\n",
      " [0.29503712 0.30304807]\n",
      " [0.25771786 0.30304807]\n",
      " [0.27178585 0.30324345]\n",
      " [0.28604924 0.30324345]\n",
      " [0.26807347 0.30480657]\n",
      " [0.29640485 0.30519734]\n",
      " [0.26533802 0.30578351]\n",
      " [0.28702618 0.30656506]\n",
      " [0.29054318 0.30695584]\n",
      " [0.30500195 0.30695584]\n",
      " [0.30089879 0.30988667]\n",
      " [0.28331379 0.30988667]\n",
      " [0.3007034  0.31027745]\n",
      " [0.25478703 0.31066823]\n",
      " [0.30343884 0.31105901]\n",
      " [0.29386479 0.31379445]\n",
      " [0.30109418 0.31633451]\n",
      " [0.31652989 0.31750684]\n",
      " [0.29347401 0.31770223]\n",
      " [0.29210629 0.31809301]\n",
      " [0.30812818 0.32004689]\n",
      " [0.29660023 0.32024228]\n",
      " [0.27940602 0.32727628]\n",
      " [0.32805784 0.33001172]\n",
      " [0.29230168 0.33059789]\n",
      " [0.32493161 0.33079328]\n",
      " [0.31008206 0.33431028]\n",
      " [0.33645955 0.34251661]\n",
      " [0.33001172 0.34407972]\n",
      " [0.33235639 0.34701055]\n",
      " [0.28018757 0.34955061]\n",
      " [0.35384916 0.35756155]\n",
      " [0.29054318 0.36420477]\n",
      " [0.32141462 0.36654943]\n",
      " [0.36654943 0.37026182]\n",
      " [0.36479093 0.37514654]\n",
      " [0.37162954 0.37534193]\n",
      " [0.36654943 0.37612349]\n",
      " [0.36928488 0.37670965]\n",
      " [0.37651426 0.3776866 ]\n",
      " [0.37104338 0.37866354]\n",
      " [0.35912466 0.37905432]\n",
      " [0.37690504 0.38178976]\n",
      " [0.37358343 0.38374365]\n",
      " [0.28057835 0.38511137]\n",
      " [0.37221571 0.38569754]\n",
      " [0.3741696  0.38745604]\n",
      " [0.35912466 0.38745604]\n",
      " [0.38823759 0.38862837]\n",
      " [0.37631887 0.38940993]\n",
      " [0.39077765 0.39292692]\n",
      " [0.3880422  0.39292692]\n",
      " [0.38393904 0.39292692]\n",
      " [0.27764752 0.39390387]\n",
      " [0.39468542 0.39585776]\n",
      " [0.39468542 0.39624853]\n",
      " [0.39546698 0.39624853]\n",
      " [0.39273154 0.3968347 ]\n",
      " [0.39663931 0.39722548]\n",
      " [0.3968347  0.39722548]\n",
      " [0.39194998 0.39742087]\n",
      " [0.39624853 0.39781165]\n",
      " [0.38882376 0.39781165]\n",
      " [0.39546698 0.39820242]\n",
      " [0.39546698 0.39878859]\n",
      " [0.39761626 0.39878859]\n",
      " [0.39429465 0.39917937]\n",
      " [0.39351309 0.39917937]\n",
      " [0.39527159 0.39917937]\n",
      " [0.3968347  0.39917937]\n",
      " [0.3915592  0.39937476]\n",
      " [0.38823759 0.39976553]\n",
      " [0.39644392 0.39976553]\n",
      " [0.39429465 0.39976553]\n",
      " [0.39488081 0.39996092]\n",
      " [0.39937476 0.40015631]\n",
      " [0.3915592  0.4003517 ]\n",
      " [0.39488081 0.40054709]\n",
      " [0.39449004 0.40074248]\n",
      " [0.39800703 0.40093787]\n",
      " [0.40015631 0.40093787]\n",
      " [0.38823759 0.40113326]\n",
      " [0.39605315 0.40113326]\n",
      " [0.39292692 0.40152403]\n",
      " [0.39722548 0.40191481]\n",
      " [0.39527159 0.40191481]\n",
      " [0.39839781 0.40191481]\n",
      " [0.39761626 0.4021102 ]\n",
      " [0.3880422  0.4021102 ]\n",
      " [0.38726065 0.40250098]\n",
      " [0.40054709 0.40289175]\n",
      " [0.3950762  0.40289175]\n",
      " [0.39468542 0.40308714]\n",
      " [0.39722548 0.40347792]\n",
      " [0.38589293 0.40347792]\n",
      " [0.39761626 0.40347792]\n",
      " [0.25810864 0.40367331]\n",
      " [0.25654553 0.40367331]\n",
      " [0.39292692 0.40406409]\n",
      " [0.39175459 0.40425948]\n",
      " [0.39957014 0.40445487]\n",
      " [0.39878859 0.40465025]\n",
      " [0.4038687  0.40465025]\n",
      " [0.40171942 0.40523642]\n",
      " [0.40015631 0.40543181]\n",
      " [0.40328253 0.4056272 ]\n",
      " [0.40171942 0.40582259]\n",
      " [0.4038687  0.40621336]\n",
      " [0.40601798 0.40640875]\n",
      " [0.39761626 0.40679953]\n",
      " [0.4003517  0.40699492]\n",
      " [0.39976553 0.4091442 ]\n",
      " [0.2377882         inf]]\n"
     ]
    }
   ],
   "source": [
    "print(rad_phom_0s[-1])"
   ]
  },
  {
   "cell_type": "markdown",
   "metadata": {},
   "source": [
    "### Save persistent homology files so I only need to run this once"
   ]
  },
  {
   "cell_type": "code",
   "execution_count": 10,
   "metadata": {},
   "outputs": [
    {
     "name": "stderr",
     "output_type": "stream",
     "text": [
      "C:\\Users\\Adam\\Anaconda3\\lib\\site-packages\\numpy\\core\\_asarray.py:136: VisibleDeprecationWarning: Creating an ndarray from ragged nested sequences (which is a list-or-tuple of lists-or-tuples-or ndarrays with different lengths or shapes) is deprecated. If you meant to do this, you must specify 'dtype=object' when creating the ndarray\n",
      "  return array(a, dtype, copy=False, order=order, subok=True)\n"
     ]
    }
   ],
   "source": [
    "np.save('./Radiomics_Homology/rad_phom_middle_0s.npy', rad_phom_0s)\n",
    "np.save('./Radiomics_Homology/rad_phom_middle_1s.npy', rad_phom_1s)\n",
    "\n",
    "np.save('./Radiogenomics_Homology/radg_phom_middle_0s.npy', radg_phom_0s)\n",
    "np.save('./Radiogenomics_Homology/radg_phom_middle_1s.npy', radg_phom_1s)\n"
   ]
  },
  {
   "cell_type": "code",
   "execution_count": null,
   "metadata": {},
   "outputs": [],
   "source": []
  }
 ],
 "metadata": {
  "kernelspec": {
   "display_name": "Python 3",
   "language": "python",
   "name": "python3"
  },
  "language_info": {
   "codemirror_mode": {
    "name": "ipython",
    "version": 3
   },
   "file_extension": ".py",
   "mimetype": "text/x-python",
   "name": "python",
   "nbconvert_exporter": "python",
   "pygments_lexer": "ipython3",
   "version": "3.7.4"
  }
 },
 "nbformat": 4,
 "nbformat_minor": 2
}
