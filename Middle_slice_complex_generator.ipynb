{
 "cells": [
  {
   "cell_type": "markdown",
   "metadata": {},
   "source": [
    "# Compute Persistent Homology of 3-D Scans\n",
    "\n",
    "### We have the middle segment from the 421 + 144 TCIA lung cancer samples formatted for analysis of Cubical Complexes"
   ]
  },
  {
   "cell_type": "code",
   "execution_count": 2,
   "metadata": {},
   "outputs": [],
   "source": [
    "import numpy as np\n",
    "import matplotlib.pylab as plt\n",
    "import math\n",
    "import os\n",
    "import gudhi as gd\n",
    "import pandas as pd\n",
    "import PersistenceImages.persistence_images as pimg"
   ]
  },
  {
   "cell_type": "markdown",
   "metadata": {},
   "source": [
    "### Test the persistent homology pipeline"
   ]
  },
  {
   "cell_type": "code",
   "execution_count": 3,
   "metadata": {},
   "outputs": [],
   "source": [
    "def BitmapToPhom(bitmap):\n",
    "    l,w = np.shape(bitmap)\n",
    "    \n",
    "    cubical = gd.CubicalComplex(dimensions = [l,w], top_dimensional_cells = bitmap.flatten())\n",
    "    phom = cubical.compute_persistence()\n",
    "    phom_0 = cubical.persistence_intervals_in_dimension(0)\n",
    "    phom_1 = cubical.persistence_intervals_in_dimension(1)\n",
    "\n",
    "    return(phom_0, phom_1)"
   ]
  },
  {
   "cell_type": "code",
   "execution_count": 4,
   "metadata": {},
   "outputs": [],
   "source": [
    "#Function to isolate just the middle slice\n",
    "def middle_slice(scan):\n",
    "    \n",
    "    nslices = len(scan)\n",
    "    middle = math.ceil(nslices/2)\n",
    "    middle_slice = scan[middle]\n",
    "    \n",
    "    return middle_slice"
   ]
  },
  {
   "cell_type": "code",
   "execution_count": 6,
   "metadata": {},
   "outputs": [
    {
     "data": {
      "text/plain": [
       "<matplotlib.axes._subplots.AxesSubplot at 0x1269d3ead48>"
      ]
     },
     "execution_count": 6,
     "metadata": {},
     "output_type": "execute_result"
    },
    {
     "data": {
      "image/png": "[encoded data removed]",
      "text/plain": [
       "<Figure size 432x288 with 1 Axes>"
      ]
     },
     "metadata": {
      "needs_background": "light"
     },
     "output_type": "display_data"
    }
   ],
   "source": [
    "lung_test = np.load('./Radiomics_Arrays/LUNG1-101.npy')\n",
    "middle_test = middle_slice (lung_test)\n",
    "phom_0, phom_1 = BitmapToPhom(middle_test)\n",
    "gd.plot_persistence_diagram(phom_0)"
   ]
  },
  {
   "cell_type": "markdown",
   "metadata": {},
   "source": [
    "### Read in files and normalize"
   ]
  },
  {
   "cell_type": "code",
   "execution_count": 11,
   "metadata": {},
   "outputs": [],
   "source": [
    "#Radiomics Dataset\n",
    "directory = os.fsencode('./Radiomics_Arrays')\n",
    "\n",
    "all_rad_middle_scans = []\n",
    "rad_maxes = []\n",
    "rad_mins = []\n",
    "\n",
    "for file in os.listdir(directory):\n",
    "    filename = './Radiomics_Arrays/' + os.fsdecode(file)\n",
    "    lung = np.load(filename)\n",
    "    middle = middle_slice(lung)\n",
    "    rad_maxes.append(np.amax(middle))\n",
    "    rad_mins.append(np.amin(middle))    \n",
    "    all_rad_middle_scans.append(lung)\n",
    "    \n",
    "\n",
    "    \n",
    "#Radiogenomics Dataset\n",
    "directory = os.fsencode('./Radiogenomics_Arrays')\n",
    "\n",
    "all_radg_middle_scans = []\n",
    "radg_maxes = []\n",
    "radg_mins = []\n",
    "\n",
    "for file in os.listdir(directory):\n",
    "    filename = './Radiogenomics_Arrays/' + os.fsdecode(file)\n",
    "    lung = np.load(filename)\n",
    "    middle = middle_slice(lung)\n",
    "    radg_maxes.append(np.amax(middle))\n",
    "    radg_mins.append(np.amin(middle))    \n",
    "    all_radg_middle_scans.append(middle)"
   ]
  },
  {
   "cell_type": "code",
   "execution_count": 14,
   "metadata": {},
   "outputs": [],
   "source": [
    "#We want to normalize to [0,1]\n",
    "grand_max = max(np.max(rad_maxes), np.max(radg_maxes))\n",
    "grand_min = max(np.min(rad_mins), np.min(radg_mins))\n",
    "\n",
    "all_rad_middle_scans_normalized = (all_rad_middle_scans - grand_min) / (grand_max - grand_min)\n",
    "all_radg_middle_scans_normalized = (all_radg_middle_scans - grand_min) / (grand_max - grand_min)"
   ]
  },
  {
   "cell_type": "markdown",
   "metadata": {},
   "source": [
    "### Apply persistent homology pipeline to all files"
   ]
  },
  {
   "cell_type": "code",
   "execution_count": 17,
   "metadata": {},
   "outputs": [],
   "source": [
    "#Radiomics Dataset\n",
    "\n",
    "rad_phom_0s = []\n",
    "rad_phom_1s = []\n",
    "\n",
    "for tumor in all_rad_middle_scans_normalized:\n",
    "    tumor_middle = middle_slice(tumor)\n",
    "    rad_phom_0, rad_phom_1 = BitmapToPhom(tumor_middle)\n",
    "    \n",
    "    rad_phom_0s.append(rad_phom_0)\n",
    "    rad_phom_1s.append(rad_phom_1)\n",
    "    \n",
    "    \n",
    "#Radiogenomics Dataset\n",
    "\n",
    "radg_phom_0s = []\n",
    "radg_phom_1s = []\n",
    "\n",
    "for tumor in all_radg_middle_scans_normalized:\n",
    "    tummor_middle = middle_slice(tumor)\n",
    "    radg_phom_0, radg_phom_1 = BitmapToPhom(tumor_middle)\n",
    "    \n",
    "    radg_phom_0s.append(radg_phom_0)\n",
    "    radg_phom_1s.append(radg_phom_1)\n"
   ]
  },
  {
   "cell_type": "markdown",
   "metadata": {},
   "source": [
    "### Save persistent homology files so I only need to run this once"
   ]
  },
  {
   "cell_type": "code",
   "execution_count": 18,
   "metadata": {},
   "outputs": [],
   "source": [
    "np.save('./Radiomics_Homology/rad_phom_middle_0s.npy', rad_phom_0s)\n",
    "np.save('./Radiomics_Homology/rad_phom_middle_1s.npy', rad_phom_1s)\n",
    "\n",
    "np.save('./Radiogenomics_Homology/radg_phom_middle_0s.npy', radg_phom_0s)\n",
    "np.save('./Radiogenomics_Homology/radg_phom_middle_1s.npy', radg_phom_1s)\n"
   ]
  }
 ],
 "metadata": {
  "kernelspec": {
   "display_name": "Python 3",
   "language": "python",
   "name": "python3"
  },
  "language_info": {
   "codemirror_mode": {
    "name": "ipython",
    "version": 3
   },
   "file_extension": ".py",
   "mimetype": "text/x-python",
   "name": "python",
   "nbconvert_exporter": "python",
   "pygments_lexer": "ipython3",
   "version": "3.7.4"
  }
 },
 "nbformat": 4,
 "nbformat_minor": 2
}
