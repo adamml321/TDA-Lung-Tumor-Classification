{
 "cells": [
  {
   "cell_type": "markdown",
   "metadata": {},
   "source": [
    "# Classifying Lung Tumor CT Scans with Convolutional Neural Networks\n",
    "This notebook will use the methods from here https://keras.io/examples/vision/3D_image_classification/ to obtain a comparative benchmark for the TDA-based classifier\n"
   ]
  },
  {
   "cell_type": "code",
   "execution_count": 1,
   "metadata": {},
   "outputs": [],
   "source": [
    "import numpy as np\n",
    "import matplotlib.pylab as plt\n",
    "import math\n",
    "import os\n",
    "import pandas as pd\n",
    "\n",
    "import tensorflow as tf\n",
    "from tensorflow import keras\n",
    "from tensorflow.keras import layers"
   ]
  },
  {
   "cell_type": "markdown",
   "metadata": {},
   "source": [
    "### Read in imaging and clinical data"
   ]
  },
  {
   "cell_type": "code",
   "execution_count": null,
   "metadata": {},
   "outputs": [],
   "source": [
    "#Radiomics Dataset\n",
    "directory = os.fsencode('./Radiomics_Arrays')\n",
    "\n",
    "all_rad_scans = []\n",
    "rad_maxes = []\n",
    "rad_mins = []\n",
    "\n",
    "for file in os.listdir(directory):\n",
    "    filename = './Radiomics_Arrays/' + os.fsdecode(file)\n",
    "    lung = np.load(filename)\n",
    "    rad_maxes.append(np.amax(lung))\n",
    "    rad_mins.append(np.amin(lung))    \n",
    "    all_rad_scans.append(lung)\n",
    "    \n",
    "\n",
    "    \n",
    "#Radiogenomics Dataset\n",
    "directory = os.fsencode('./Radiogenomics_Arrays')\n",
    "\n",
    "all_radg_scans = []\n",
    "radg_maxes = []\n",
    "radg_mins = []\n",
    "\n",
    "for file in os.listdir(directory):\n",
    "    filename = './Radiogenomics_Arrays/' + os.fsdecode(file)\n",
    "    lung = np.load(filename)\n",
    "    radg_maxes.append(np.amax(lung))\n",
    "    radg_mins.append(np.amin(lung))    \n",
    "    all_radg_scans.append(lung)"
   ]
  }
 ],
 "metadata": {
  "kernelspec": {
   "display_name": "Python 3",
   "language": "python",
   "name": "python3"
  },
  "language_info": {
   "codemirror_mode": {
    "name": "ipython",
    "version": 3
   },
   "file_extension": ".py",
   "mimetype": "text/x-python",
   "name": "python",
   "nbconvert_exporter": "python",
   "pygments_lexer": "ipython3",
   "version": "3.7.4"
  }
 },
 "nbformat": 4,
 "nbformat_minor": 2
}
